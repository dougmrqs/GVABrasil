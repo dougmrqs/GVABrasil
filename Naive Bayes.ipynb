{
 "cells": [
  {
   "cell_type": "markdown",
   "metadata": {},
   "source": [
    "# Classificador utilizando Naive Bayes"
   ]
  },
  {
   "cell_type": "markdown",
   "metadata": {},
   "source": [
    "Para Naive Bayes, podemos utilizar duas modalidades de algorítmo:\n",
    "- Multinomial Naive Bayes\n",
    "- Bernoulli Naive Bayes\n",
    "\n",
    "É recomendado que testemos ambas as possibilidades para garantir o melhor encaixe."
   ]
  },
  {
   "cell_type": "code",
   "execution_count": 1,
   "metadata": {},
   "outputs": [],
   "source": [
    "# importe bibliotecas necessárias\n",
    "import numpy as np\n",
    "import pandas as pd\n",
    "from sklearn.naive_bayes import MultinomialNB"
   ]
  },
  {
   "cell_type": "markdown",
   "metadata": {},
   "source": [
    "# CRIANDO O DATAFRAME\n",
    "\n",
    "Vamos criar um dataframe. É como se fosse uma tabela do bom e velho Excel e que vai nos dar mais facilidade na manipulação de dados."
   ]
  },
  {
   "cell_type": "code",
   "execution_count": 2,
   "metadata": {},
   "outputs": [],
   "source": [
    "df_n = pd.read_csv('GVArchive_N.csv')\n",
    "df_p = pd.read_csv('GVArchive_P.csv')\n",
    "df_pn = df_p.append(df_n)"
   ]
  },
  {
   "cell_type": "code",
   "execution_count": 23,
   "metadata": {},
   "outputs": [
    {
     "data": {
      "text/html": [
       "<div>\n",
       "<style scoped>\n",
       "    .dataframe tbody tr th:only-of-type {\n",
       "        vertical-align: middle;\n",
       "    }\n",
       "\n",
       "    .dataframe tbody tr th {\n",
       "        vertical-align: top;\n",
       "    }\n",
       "\n",
       "    .dataframe thead th {\n",
       "        text-align: right;\n",
       "    }\n",
       "</style>\n",
       "<table border=\"1\" class=\"dataframe\">\n",
       "  <thead>\n",
       "    <tr style=\"text-align: right;\">\n",
       "      <th></th>\n",
       "      <th>DATA</th>\n",
       "      <th>TITULO</th>\n",
       "      <th>KW</th>\n",
       "      <th>RESUMO</th>\n",
       "      <th>URL</th>\n",
       "      <th>TARGET</th>\n",
       "    </tr>\n",
       "  </thead>\n",
       "  <tbody>\n",
       "    <tr>\n",
       "      <th>113</th>\n",
       "      <td>NaN</td>\n",
       "      <td>SANTA LUZIA  BORRACHEIRO É ALVEJADO E MORTO C...</td>\n",
       "      <td>['santa', 'alvejado', 'crime', 'disparos', 'tr...</td>\n",
       "      <td>De acordo com informações preliminares, dois h...</td>\n",
       "      <td>https://www.newsrondonia.com.br/noticias/santa...</td>\n",
       "      <td>1</td>\n",
       "    </tr>\n",
       "    <tr>\n",
       "      <th>47</th>\n",
       "      <td>2018-10-26 17:30:24-03:00</td>\n",
       "      <td>Diretor da Acadepol fez disparo que provocou a...</td>\n",
       "      <td>['acadepol', 'severiano', 'provocou', 'capitão...</td>\n",
       "      <td>A perícia mostrou que a arma era de uso pessoa...</td>\n",
       "      <td>https://www.op9.com.br/pb/noticias/diretor-da-...</td>\n",
       "      <td>1</td>\n",
       "    </tr>\n",
       "    <tr>\n",
       "      <th>81</th>\n",
       "      <td>2019-02-16 00:00:00</td>\n",
       "      <td>Homem é morto a tiros de pistola na fronteira ...</td>\n",
       "      <td>['fronteira', 'investiga', 'suspeito', 'morto'...</td>\n",
       "      <td>Homem é morto a tiros de pistola na fronteira ...</td>\n",
       "      <td>https://g1.globo.com/ms/mato-grosso-do-sul/not...</td>\n",
       "      <td>1</td>\n",
       "    </tr>\n",
       "    <tr>\n",
       "      <th>48</th>\n",
       "      <td>2019-02-28 17:18:39+00:00</td>\n",
       "      <td>Hellboy aparece com espada de fogo e arma em n...</td>\n",
       "      <td>['viveu', 'usou', 'vilã', 'bruxas', 'of', 'mer...</td>\n",
       "      <td>Hellboy teve dois novos pôsteres divulgados.\\r...</td>\n",
       "      <td>https://www.omelete.com.br/hellboy/hellboy-apa...</td>\n",
       "      <td>0</td>\n",
       "    </tr>\n",
       "    <tr>\n",
       "      <th>26</th>\n",
       "      <td>2019-03-08 15:09:00</td>\n",
       "      <td>Bolsonaro critica obrigatoriedade de curso do ...</td>\n",
       "      <td>['bolsonaro', 'critica', 'sexual', 'brasil', '...</td>\n",
       "      <td>Veja mais opçõesNa avaliação do presidente, qu...</td>\n",
       "      <td>https://oglobo.globo.com/sociedade/bolsonaro-c...</td>\n",
       "      <td>0</td>\n",
       "    </tr>\n",
       "    <tr>\n",
       "      <th>18</th>\n",
       "      <td>2019-03-08 00:00:00</td>\n",
       "      <td>Witzel sanciona lei que impede nomeação de con...</td>\n",
       "      <td>['witzel', 'cargos', 'lei', 'comissionados', '...</td>\n",
       "      <td>Witzel sancionou uma lei que impede a nomeação...</td>\n",
       "      <td>https://g1.globo.com/rj/rio-de-janeiro/noticia...</td>\n",
       "      <td>0</td>\n",
       "    </tr>\n",
       "    <tr>\n",
       "      <th>56</th>\n",
       "      <td>2018-11-07 00:00:00</td>\n",
       "      <td>Mulher que levou disparo de arma de choque de ...</td>\n",
       "      <td>['vídeo', 'corregedoria', 'levou', 'paciente',...</td>\n",
       "      <td>O guarda que usou a arma de choque para conter...</td>\n",
       "      <td>https://g1.globo.com/sp/sorocaba-jundiai/notic...</td>\n",
       "      <td>1</td>\n",
       "    </tr>\n",
       "    <tr>\n",
       "      <th>19</th>\n",
       "      <td>2019-03-08 20:45:53</td>\n",
       "      <td>'Saúde absolutamente normal': promotores inter...</td>\n",
       "      <td>['diferenciado', 'desmentem', 'atendimento', '...</td>\n",
       "      <td>Na sala de interrogatórios, o médium reclamava...</td>\n",
       "      <td>https://extra.globo.com/noticias/brasil/saude-...</td>\n",
       "      <td>0</td>\n",
       "    </tr>\n",
       "    <tr>\n",
       "      <th>58</th>\n",
       "      <td>2018-12-09 17:30:00-03:00</td>\n",
       "      <td>PM pai de adolescente que matou amiga diz que ...</td>\n",
       "      <td>['casa', 'adolescente', 'matou', 'amiga', 'rev...</td>\n",
       "      <td>O policial militar reformado, pai da adolescen...</td>\n",
       "      <td>https://www.correio24horas.com.br/noticia/nid/...</td>\n",
       "      <td>1</td>\n",
       "    </tr>\n",
       "    <tr>\n",
       "      <th>8</th>\n",
       "      <td>2019-03-08 04:30:00</td>\n",
       "      <td>‘Queria ajudar Bolsonaro a mudar o país, mas o...</td>\n",
       "      <td>['país', 'quis', 'assessor', 'álvaro', 'r', 't...</td>\n",
       "      <td>Veja mais opçõesLeia a entrevista com Adriana ...</td>\n",
       "      <td>https://oglobo.globo.com/brasil/queria-ajudar-...</td>\n",
       "      <td>0</td>\n",
       "    </tr>\n",
       "  </tbody>\n",
       "</table>\n",
       "</div>"
      ],
      "text/plain": [
       "                          DATA  \\\n",
       "113                        NaN   \n",
       "47   2018-10-26 17:30:24-03:00   \n",
       "81         2019-02-16 00:00:00   \n",
       "48   2019-02-28 17:18:39+00:00   \n",
       "26         2019-03-08 15:09:00   \n",
       "18         2019-03-08 00:00:00   \n",
       "56         2018-11-07 00:00:00   \n",
       "19         2019-03-08 20:45:53   \n",
       "58   2018-12-09 17:30:00-03:00   \n",
       "8          2019-03-08 04:30:00   \n",
       "\n",
       "                                                TITULO  \\\n",
       "113  SANTA LUZIA  BORRACHEIRO É ALVEJADO E MORTO C...   \n",
       "47   Diretor da Acadepol fez disparo que provocou a...   \n",
       "81   Homem é morto a tiros de pistola na fronteira ...   \n",
       "48   Hellboy aparece com espada de fogo e arma em n...   \n",
       "26   Bolsonaro critica obrigatoriedade de curso do ...   \n",
       "18   Witzel sanciona lei que impede nomeação de con...   \n",
       "56   Mulher que levou disparo de arma de choque de ...   \n",
       "19   'Saúde absolutamente normal': promotores inter...   \n",
       "58   PM pai de adolescente que matou amiga diz que ...   \n",
       "8    ‘Queria ajudar Bolsonaro a mudar o país, mas o...   \n",
       "\n",
       "                                                    KW  \\\n",
       "113  ['santa', 'alvejado', 'crime', 'disparos', 'tr...   \n",
       "47   ['acadepol', 'severiano', 'provocou', 'capitão...   \n",
       "81   ['fronteira', 'investiga', 'suspeito', 'morto'...   \n",
       "48   ['viveu', 'usou', 'vilã', 'bruxas', 'of', 'mer...   \n",
       "26   ['bolsonaro', 'critica', 'sexual', 'brasil', '...   \n",
       "18   ['witzel', 'cargos', 'lei', 'comissionados', '...   \n",
       "56   ['vídeo', 'corregedoria', 'levou', 'paciente',...   \n",
       "19   ['diferenciado', 'desmentem', 'atendimento', '...   \n",
       "58   ['casa', 'adolescente', 'matou', 'amiga', 'rev...   \n",
       "8    ['país', 'quis', 'assessor', 'álvaro', 'r', 't...   \n",
       "\n",
       "                                                RESUMO  \\\n",
       "113  De acordo com informações preliminares, dois h...   \n",
       "47   A perícia mostrou que a arma era de uso pessoa...   \n",
       "81   Homem é morto a tiros de pistola na fronteira ...   \n",
       "48   Hellboy teve dois novos pôsteres divulgados.\\r...   \n",
       "26   Veja mais opçõesNa avaliação do presidente, qu...   \n",
       "18   Witzel sancionou uma lei que impede a nomeação...   \n",
       "56   O guarda que usou a arma de choque para conter...   \n",
       "19   Na sala de interrogatórios, o médium reclamava...   \n",
       "58   O policial militar reformado, pai da adolescen...   \n",
       "8    Veja mais opçõesLeia a entrevista com Adriana ...   \n",
       "\n",
       "                                                   URL  TARGET  \n",
       "113  https://www.newsrondonia.com.br/noticias/santa...       1  \n",
       "47   https://www.op9.com.br/pb/noticias/diretor-da-...       1  \n",
       "81   https://g1.globo.com/ms/mato-grosso-do-sul/not...       1  \n",
       "48   https://www.omelete.com.br/hellboy/hellboy-apa...       0  \n",
       "26   https://oglobo.globo.com/sociedade/bolsonaro-c...       0  \n",
       "18   https://g1.globo.com/rj/rio-de-janeiro/noticia...       0  \n",
       "56   https://g1.globo.com/sp/sorocaba-jundiai/notic...       1  \n",
       "19   https://extra.globo.com/noticias/brasil/saude-...       0  \n",
       "58   https://www.correio24horas.com.br/noticia/nid/...       1  \n",
       "8    https://oglobo.globo.com/brasil/queria-ajudar-...       0  "
      ]
     },
     "execution_count": 23,
     "metadata": {},
     "output_type": "execute_result"
    }
   ],
   "source": [
    "# Exibe 10 amostras aleatórias do dataset.\n",
    "#df_pn = df_pn.drop(columns=['Unnamed: 0'])\n",
    "df_pn.sample(10)"
   ]
  },
  {
   "cell_type": "markdown",
   "metadata": {},
   "source": [
    "Para utilizar o próprio conjunto de treinamento para testar a acurácia, utilizaremos a ferramenta train_test_split."
   ]
  },
  {
   "cell_type": "code",
   "execution_count": 25,
   "metadata": {},
   "outputs": [
    {
     "name": "stdout",
     "output_type": "stream",
     "text": [
      "Training dataset:  129\n",
      "Test dataset:  43\n"
     ]
    }
   ],
   "source": [
    "from sklearn.model_selection import train_test_split\n",
    "\n",
    "# a coluna KW será nosso 'X' enquanto a coluna TARGET será nosso 'y'\n",
    "\n",
    "X_train, X_test, y_train, y_test = train_test_split(\n",
    "    df_pn['KW'], \n",
    "    df_pn['TARGET'], \n",
    "    random_state = 1 # este random state serve para caso desejemos reproduzir a mesma pseudoaleatoriedade em outro momento\n",
    ")\n",
    "\n",
    "print(\"Training dataset: \", X_train.shape[0]) # o dataset de treinos possui esta dimensão\n",
    "print(\"Test dataset: \", X_test.shape[0]) # e o dataset de teste possui esta dimensão."
   ]
  },
  {
   "cell_type": "markdown",
   "metadata": {},
   "source": [
    "Creio que a parte mais importante é a vetorização das palavras-chave. O modelo NB não aceita a leitura de caracteres diretamente, sendo então necessária a conversão de uma string de palavras para um vetor."
   ]
  },
  {
   "cell_type": "code",
   "execution_count": 26,
   "metadata": {},
   "outputs": [
    {
     "name": "stdout",
     "output_type": "stream",
     "text": [
      "  (0, 21)\t1\n",
      "  (0, 65)\t1\n",
      "  (0, 83)\t1\n",
      "  (0, 647)\t1\n",
      "  (0, 790)\t1\n",
      "  (0, 725)\t1\n",
      "  (0, 773)\t1\n",
      "  (0, 910)\t1\n",
      "  (0, 355)\t1\n",
      "  (0, 251)\t1\n",
      "  (0, 378)\t1\n",
      "  (0, 731)\t1\n",
      "  (0, 51)\t1\n",
      "  (0, 44)\t1\n",
      "  (0, 583)\t1\n",
      "  (0, 766)\t1\n",
      "  (1, 184)\t1\n",
      "  (1, 615)\t1\n",
      "  (1, 550)\t1\n",
      "  (1, 369)\t1\n",
      "  (1, 159)\t1\n",
      "  (1, 446)\t1\n",
      "  (1, 911)\t1\n",
      "  (1, 540)\t1\n",
      "  (1, 837)\t1\n",
      "  :\t:\n",
      "  (127, 202)\t1\n",
      "  (127, 817)\t1\n",
      "  (127, 672)\t1\n",
      "  (127, 113)\t1\n",
      "  (127, 116)\t1\n",
      "  (127, 541)\t1\n",
      "  (127, 941)\t1\n",
      "  (127, 540)\t1\n",
      "  (128, 605)\t1\n",
      "  (128, 74)\t1\n",
      "  (128, 345)\t1\n",
      "  (128, 102)\t1\n",
      "  (128, 875)\t1\n",
      "  (128, 869)\t1\n",
      "  (128, 755)\t1\n",
      "  (128, 358)\t1\n",
      "  (128, 541)\t1\n",
      "  (128, 645)\t1\n",
      "  (128, 642)\t1\n",
      "  (128, 348)\t1\n",
      "  (128, 507)\t1\n",
      "  (128, 878)\t1\n",
      "  (128, 65)\t1\n",
      "  (128, 647)\t1\n",
      "  (128, 251)\t1\n"
     ]
    }
   ],
   "source": [
    "from sklearn.feature_extraction.text import CountVectorizer\n",
    "\n",
    "count_vector = CountVectorizer()\n",
    "training_data = count_vector.fit_transform(X_train) # vetorizaremos tanto o train set\n",
    "testing_data = count_vector.transform(X_test) # quanto o test set\n",
    "\n",
    "print(training_data) # é assim que se parecerá o set vetorizado"
   ]
  },
  {
   "cell_type": "code",
   "execution_count": 27,
   "metadata": {},
   "outputs": [
    {
     "data": {
      "text/plain": [
       "MultinomialNB(alpha=1.0, class_prior=None, fit_prior=True)"
      ]
     },
     "execution_count": 27,
     "metadata": {},
     "output_type": "execute_result"
    }
   ],
   "source": [
    "clf = MultinomialNB() # eis então o Multinomial Naive Bayes\n",
    "clf.fit(training_data, y_train) # fit é o comando que recebe os dados de X e y para criar o classificador."
   ]
  },
  {
   "cell_type": "code",
   "execution_count": 28,
   "metadata": {},
   "outputs": [
    {
     "data": {
      "text/plain": [
       "array([1, 1, 1, 1, 1, 1, 1, 1, 1, 1, 1, 1, 0, 1, 0, 0, 0, 1, 1, 1, 1, 1,\n",
       "       1, 1, 1, 1, 1, 1, 1, 1, 1, 1, 1, 1, 1, 1, 1, 1, 1, 1, 1, 1, 1],\n",
       "      dtype=int64)"
      ]
     },
     "execution_count": 28,
     "metadata": {},
     "output_type": "execute_result"
    }
   ],
   "source": [
    "# Após treinado o modelo, a predição é feita com o seguinte comando:\n",
    "\n",
    "predictions = clf.predict(testing_data)\n",
    "predictions # exibe o resultado das predições."
   ]
  },
  {
   "cell_type": "markdown",
   "metadata": {},
   "source": [
    "# RESULTADOS\n",
    "\n",
    "É observado que o resultado está impreciso/viciado pela falta de exemplos negativos. Será necessário voltar à coleta de dados e reaplicar o treinamento no modelo para que este possua mais parâmetros comparativos."
   ]
  },
  {
   "cell_type": "code",
   "execution_count": 29,
   "metadata": {},
   "outputs": [
    {
     "name": "stdout",
     "output_type": "stream",
     "text": [
      "Accuracy score:  0.9069767441860465\n",
      "Recall score:  0.9069767441860465\n",
      "Precision score:  0.9165175909361956\n",
      "F1 score:  0.8939870102660802\n"
     ]
    }
   ],
   "source": [
    "from sklearn.metrics import accuracy_score, recall_score, precision_score, f1_score\n",
    "\n",
    "print(\"Accuracy score: \", accuracy_score(y_test, predictions))\n",
    "print(\"Recall score: \", recall_score(y_test, predictions, average = 'weighted'))\n",
    "print(\"Precision score: \", precision_score(y_test, predictions, average = 'weighted'))\n",
    "print(\"F1 score: \", f1_score(y_test, predictions, average = 'weighted'))"
   ]
  }
 ],
 "metadata": {
  "kernelspec": {
   "display_name": "Python 3",
   "language": "python",
   "name": "python3"
  },
  "language_info": {
   "codemirror_mode": {
    "name": "ipython",
    "version": 3
   },
   "file_extension": ".py",
   "mimetype": "text/x-python",
   "name": "python",
   "nbconvert_exporter": "python",
   "pygments_lexer": "ipython3",
   "version": "3.7.1"
  }
 },
 "nbformat": 4,
 "nbformat_minor": 2
}
