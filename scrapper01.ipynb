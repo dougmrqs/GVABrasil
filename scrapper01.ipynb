{
 "cells": [
  {
   "cell_type": "markdown",
   "metadata": {},
   "source": [
    "## NEWS SCRAPER V0_1\n"
   ]
  },
  {
   "cell_type": "code",
   "execution_count": 1,
   "metadata": {},
   "outputs": [],
   "source": [
    "import newspaper # Biblioteca que analisa noticias com suporte a Natural Language Processing em Português\n",
    "import time # Habilita um delay entre os crawls/scraps para que não sufoque os sites acessados, acarretando bloqueio.\n",
    "from newspaper import Article"
   ]
  },
  {
   "cell_type": "code",
   "execution_count": 2,
   "metadata": {},
   "outputs": [],
   "source": [
    "cps_news = newspaper.build('https://news.google.com/search?q=tiros&hl=pt-BR&gl=BR&ceid=BR%3Apt-419', language='pt')"
   ]
  },
  {
   "cell_type": "code",
   "execution_count": 3,
   "metadata": {},
   "outputs": [
    {
     "name": "stdout",
     "output_type": "stream",
     "text": [
      "25\n"
     ]
    }
   ],
   "source": [
    "#for article in cps_news.articles:\n",
    "#    print(article.url)\n",
    "print(cps_news.size())"
   ]
  },
  {
   "cell_type": "code",
   "execution_count": 4,
   "metadata": {},
   "outputs": [
    {
     "name": "stdout",
     "output_type": "stream",
     "text": [
      "Mourão avisa que filhos de Bolsonaro devem parar de gerar crises\n",
      "Keywords: \n",
      "['crises', 'normal', 'coisas', 'disse', 'avisa', 'presidente', 'crise', 'casa', 'mourão', 'filhos', 'política', 'afirmou', 'gerar', 'parar', 'bolsonaro']\n",
      "\n",
      "\n",
      "Autonomia universitária: USP cancela matrículas de estudantes de colégios militares que queriam vaga sem vestibular\n",
      "Keywords: \n",
      "['militares', 'jair', 'vestibular', 'cancela', 'matrículas', 'paulo', 'vaga', 'queriam', 'mantidas', 'universidade', 'governo', 'usp', 'universitária', 'exército', 'colégios', 'estudantes']\n",
      "\n",
      "\n",
      "Jovem morto por segurança em supermercado tinha um filho e lutava contra as drogas\n",
      "Keywords: \n",
      "['supermercado', 'jovem', 'lutava', 'padrasto', 'rapaz', 'família', 'pedro', 'oliveira', 'filho', 'drogas', 'segurança', 'morto', 'barra']\n",
      "\n",
      "\n",
      "Vaticano expulsa ex-cardeal Theodore McCarrick, acusado de abusos sexuais\n",
      "Keywords: \n",
      "['igreja', 'abusos', 'mccarrick', 'sexuais', 'theodore', 'expulsa', 'unidos', 'excardeal', 'francisco', 'vaticano', 'acusado', 'papa', 'cardeal', 'título']\n",
      "\n",
      "\n",
      "Renault e Nissan garantem futuro da aliança, mas evitam falar em novo CEO\n",
      "Keywords: \n",
      "['aliança', 'evitam', 'garantem', 'empresas', 'japão', 'comando', 'nissan', 'falar', 'futuro', 'ceo', 'tensão', 'renault', 'senard', 'executivos', 'ghosn']\n",
      "\n",
      "\n",
      "Mega-Sena: quando sai o resultado do sorteio deste sábado, 16 de fevereiro\n",
      "Keywords: \n",
      "['dezenas', 'fevereiro', 'megasena', '16', 'r', 'resultado', 'números', 'loteria', 'sábado', 'prêmios', 'sorteio', 'númerosr', 'econômica', 'caixa', 'sai', 'concurso']\n",
      "\n",
      "\n",
      "Samsung abre suas primeiras lojas de operação própria, sem intermediários\n",
      "Keywords: \n",
      "['abre', 'playground', 'maravilhosos', 'samsung', 'intermediários', 'produtos', 'operação', 'lojas', 'espaço', 'queremos', 'york', 'oferecer', 'testar']\n",
      "\n",
      "\n",
      "Brigadas? Anitta e Simone se esbarram e ficam lado a lado – TV Foco\n",
      "Keywords: \n",
      "['simaria', 'esbarram', 'anitta', 'cantora', 'ficam', 'empresário', 'globo', 'falou', 'foco', 'simone', 'ficou', 'brigadas', 'união', 'larissa', 'tv']\n",
      "\n",
      "\n",
      "BBB19: Rízia fica sem graça durante conversa sobre sexo na madrugada\n",
      "Keywords: \n",
      "['conversa', 'bbb19', 'óculos', 'perguntou', 'sexo', 'graça', 'rízia', 'rápido', 'fica', 'disse', 'tirou', 'isabella', 'madrugada', 'maycon', 'risada', 'sister']\n",
      "\n",
      "\n",
      "Os planos de Carille para recuperar Clayson e ter velocidade no Timão\n",
      "Keywords: \n",
      "['começo', 'velocidade', 'planos', 'timão', 'treinador', 'jogo', 'temporada', 'corinthians', 'recuperar', 'clayson', 'jogador', 'carille', '2019', 'atacante']\n",
      "\n",
      "\n",
      "Flamengo tem imagem de organização arranhada e dura batalha por recomeço\n",
      "Keywords: \n",
      "['arranhada', 'r', 'batalha', 'clube', 'últimos', 'flamengo', 'imagem', 'organização', 'processo', 'ct', 'recomeço', 'profissional', 'dura', 'urubu']\n",
      "\n",
      "\n",
      "Ex-prefeito morre com suspeita de dengue hemorrágica em Guaraçaí\n",
      "Keywords: \n",
      "['vírus', 'hemorrágica', 'causa', 'morreu', 'guaraçaí', 'exprefeito', 'morte', 'dengue', 'vive', 'hospital', 'suspeita', 'morre', 'município']\n",
      "\n",
      "\n",
      "In Munich, Pence doubles down on criticism of Europe over Iran nuclear deal, urges removal of Maduro\n",
      "Keywords: \n",
      "['of', 'in', 'urges', 'munich', 'president', 'said', 'pence', 'nuclear', 'the', 'european', 'on', 'iran', 'over', 'security', 'maduro', 'partners', 'and', 'removal', 'to']\n",
      "\n",
      "\n",
      "Pence rebukes European powers over positions on Iran, Venezuela\n",
      "Keywords: \n",
      "['the', 'european', 'rebukes', 'powers', 'on', 'of', 'iran', 'to', 'with', 'in', 'positions', 'russia', 'pence', 'venezuela', 'and', 'that', 'over']\n",
      "\n",
      "\n",
      "Iran warns Pakistan to crack down on Jaish al-Adl\n",
      "Keywords: \n",
      "['the', 'iranian', 'attacks', 'security', 'on', 'of', 'aladl', 'crack', 'pakistan', 'in', 'down', 'warns', 'to', 'iran', 'and', 'jaish', 'that']\n",
      "\n",
      "\n",
      "Payless ShoeSource is closing all of its 2,100 remaining U.S. stores\n",
      "Keywords: \n",
      "['its', 'the', 'all', 'sex', 'is', 'of', 'shoesource', 'way', 'theodore', 'one', 'stores', 'in', 'remaining', 'priest', 'closing', 'present', 'us', 'payless']\n",
      "\n",
      "\n",
      "Here's what a luxury NYC real estate agent thinks about Amazon HQ2\n",
      "Keywords: \n",
      "['real', 'estate', 'heres', 'nyc', 'thinks', 'agent', 'hq2', 'amazon', 'what', 'luxury']\n",
      "\n",
      "\n",
      "Samsung Galaxy S10, S10+, and S10e: Specs, images, and what we know so far\n",
      "Keywords: \n",
      "['images', 'gb', 'of', 'so', 'in', 's10', 'the', 'its', 's10e', 'samsung', 'have', 'will', 'mp', 'and', 'specs', 'know', 'to', 'we', 'what']\n",
      "\n",
      "\n",
      "A Windows 10 19H1 build is coming to the Slow ring soon, but not that soon\n",
      "Keywords: \n",
      "['the', 'is', 'slow', 'build', 'you', 'windows', 'fast', 'not', 'in', 'ring', 'to', 'soon', 'coming', 'that']\n",
      "\n",
      "\n",
      "It Sounds Like It Could Be a While Until We Actually Get Apple's Streaming Service\n",
      "Keywords: \n",
      "['the', 'its', 'get', 'it', 'like', 'while', 'service', 'could', 'in', 'reported', 'until', 'streaming', 'to', 'be', 'and', 'we', 'sounds', 'that']\n",
      "\n",
      "\n",
      "Jet carrying Jennifer Aniston, Courteney Cox Makes Emergency Lan - CBS News 8 - San Diego, CA News Station - KFMB Channel 8\n",
      "Keywords: \n",
      "['jet', 'news', 'red', 'received', 'the', 'san', 'tab', '8', 'jennifer', 'their', 'valentines', 'lan', 'kfmb', 'unexpectedly', 'makes', 'surprise', 'station', 'emergency', 'sweet']\n",
      "\n",
      "\n",
      "Bellator 216 predictions\n",
      "Keywords: \n",
      "['bellator', 'the', 'is', 'of', 'predictions', '216', 'his', 'in', 'has', 'to', 'be', 'and', 'that']\n",
      "\n",
      "\n",
      "After twin-astronaut tests, NASA readies new wave of studies on space health risks\n",
      "Keywords: \n",
      "['the', 'twinastronaut', 'spaceflight', 'studies', 'readies', 'on', 'risks', 'of', 'will', 'with', 'space', 'in', 'new', 'to', 'and', 'tests', 'wave', 'that']\n",
      "\n",
      "\n",
      "Elon Musk says SpaceX is developing a 'bleeding' heavy-metal rocket ship. Making it work may be 100 times as hard as NASA's most difficult Mars mission, one expert says.\n",
      "Keywords: \n",
      "['of', 'in', 'says', 'said', 'that', 'ship', 'the', 'is', 'on', 'nasas', 'most', 'times', 'work', 'and', 'rocket', 'one', 'spacex', 'to', 'musk']\n",
      "\n",
      "\n",
      "Washington state House committee passes bill to ban personal, philosophical vaccine exemptions\n",
      "Keywords: \n",
      "['the', 'exemptions', 'philosophical', 'personal', 'measles', 'washington', 'of', 'state', 'in', 'bill', 'mmr', 'passes', 'house', 'committee', 'to', 'and', 'vaccine']\n",
      "\n",
      "\n"
     ]
    }
   ],
   "source": [
    "for article in cps_news.articles:\n",
    "    article.download() # Baixa os artigos\n",
    "    article.parse() # Divide os artigos, preparando-os para analise.\n",
    "    print(article.title)\n",
    "    article.nlp() # Habilita Processamento de Linguagem Natural\n",
    "    print(\"Keywords: \")\n",
    "    print(article.keywords)\n",
    "    print('\\n')    \n",
    "    time.sleep(2) # Delay de 5 segundos entre cada analise, pra não sobrecarregar o site."
   ]
  }
 ],
 "metadata": {
  "kernelspec": {
   "display_name": "Python 3",
   "language": "python",
   "name": "python3"
  },
  "language_info": {
   "codemirror_mode": {
    "name": "ipython",
    "version": 3
   },
   "file_extension": ".py",
   "mimetype": "text/x-python",
   "name": "python",
   "nbconvert_exporter": "python",
   "pygments_lexer": "ipython3",
   "version": "3.7.1"
  }
 },
 "nbformat": 4,
 "nbformat_minor": 2
}
